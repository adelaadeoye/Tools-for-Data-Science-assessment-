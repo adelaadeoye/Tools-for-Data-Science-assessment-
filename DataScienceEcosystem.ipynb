{
 "cells": [
  {
   "cell_type": "markdown",
   "id": "04e32a9c-0b39-48fc-97da-913f005b325d",
   "metadata": {},
   "source": [
    "# Data Science Tools and Ecosystem"
   ]
  },
  {
   "cell_type": "markdown",
   "id": "8eed9c58-fc92-476c-b118-145756acee87",
   "metadata": {},
   "source": [
    "In this notebook, Data Science Tools and Ecosystem are summarized.  \n",
    "\n",
    "**Objectives:**\n",
    "- List popular languages for Data Science\n",
    "- Create a code cell to convert minutes to hours\n",
    "- Create a markdown cell to list data science libraries"
   ]
  },
  {
   "cell_type": "markdown",
   "id": "8a12217b-7417-47e7-80ac-357ed63315c6",
   "metadata": {},
   "source": [
    "Some of the popular languages that Data Scientists use are:   \n",
    "ordered list\n",
    "1. R\n",
    "2. Python\n",
    "3. MySql\n",
    "\n",
    "\n"
   ]
  },
  {
   "cell_type": "markdown",
   "id": "1973b3e8-02a0-4f2a-be25-de285995f683",
   "metadata": {},
   "source": [
    "Some of the commonly used libraries used by Data Scientists include:  \n",
    "ordered list\n",
    "1. Pytoch\n",
    "2. TensorFlow\n",
    "3. Matplotlib\n",
    "\n",
    "\n"
   ]
  },
  {
   "cell_type": "markdown",
   "id": "ef00ee7d-b8b1-4d24-921e-ce3b77b0759a",
   "metadata": {},
   "source": [
    "|Data Science Tools|\n",
    "--------------------\n",
    "|Jupylab|\n",
    "|Winston studio|\n",
    "|Jupynotebook|\n"
   ]
  },
  {
   "cell_type": "markdown",
   "id": "130d9a34-f1cd-4849-b699-0c9f3e912420",
   "metadata": {},
   "source": [
    "### Below are a few examples of evaluating arithmetic expressions in Python\n",
    "\n",
    "print(2+2) //result 4   \n",
    "print(3-1) //result 1"
   ]
  },
  {
   "cell_type": "code",
   "execution_count": 12,
   "id": "f17faf9b-47f8-4a40-be9d-fb5feba3f2ca",
   "metadata": {},
   "outputs": [
    {
     "name": "stdout",
     "output_type": "stream",
     "text": [
      "17\n"
     ]
    }
   ],
   "source": [
    "#This a simple arithmetic expression to mutiply then add integers\n",
    "print ((3*4)+5)\n",
    "\n"
   ]
  },
  {
   "cell_type": "code",
   "execution_count": 11,
   "id": "c184f7aa-f67a-4015-b746-6dc49333d182",
   "metadata": {},
   "outputs": [
    {
     "name": "stdout",
     "output_type": "stream",
     "text": [
      "3.3333333333333335\n"
     ]
    }
   ],
   "source": [
    "# This will convert 200 minutes to hours by diving by 60\n",
    "print(200/60)"
   ]
  },
  {
   "cell_type": "markdown",
   "id": "de3c0de6-2d4a-4a28-8bf5-89fb094dc288",
   "metadata": {},
   "source": [
    "## Author\n",
    "Adeoye Adela"
   ]
  },
  {
   "cell_type": "code",
   "execution_count": null,
   "id": "e9369130-8a97-4d36-a947-f51e3f455b25",
   "metadata": {},
   "outputs": [],
   "source": []
  }
 ],
 "metadata": {
  "kernelspec": {
   "display_name": "Python 3 (ipykernel)",
   "language": "python",
   "name": "python3"
  },
  "language_info": {
   "codemirror_mode": {
    "name": "ipython",
    "version": 3
   },
   "file_extension": ".py",
   "mimetype": "text/x-python",
   "name": "python",
   "nbconvert_exporter": "python",
   "pygments_lexer": "ipython3",
   "version": "3.10.9"
  }
 },
 "nbformat": 4,
 "nbformat_minor": 5
}
